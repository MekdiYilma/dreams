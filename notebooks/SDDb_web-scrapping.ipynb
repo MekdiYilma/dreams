{
 "cells": [
  {
   "cell_type": "markdown",
   "id": "wrong-composition",
   "metadata": {},
   "source": [
    "#  Sleep and Dream Database (SDDb) Web-Scraping "
   ]
  },
  {
   "cell_type": "code",
   "execution_count": 2,
   "id": "french-programmer",
   "metadata": {},
   "outputs": [],
   "source": [
    "from selenium import webdriver\n",
    "from selenium.webdriver.common.keys import Keys\n",
    "from selenium.webdriver.common.by import By\n",
    "from selenium.webdriver.support.ui import WebDriverWait\n",
    "from selenium.webdriver.support import expected_conditions as EC\n",
    "from selenium.webdriver.chrome.options import Options\n",
    "\n",
    "\n",
    "import time"
   ]
  },
  {
   "cell_type": "markdown",
   "id": "informational-advocacy",
   "metadata": {},
   "source": [
    "## 1. Scroll Through SDDb to Scrap Selected Dream Entries' Links"
   ]
  },
  {
   "cell_type": "code",
   "execution_count": null,
   "id": "informative-blank",
   "metadata": {},
   "outputs": [],
   "source": [
    "path = '/Users/mekdiyilma/code/chromedriver'\n",
    "driver = webdriver.Chrome(path)\n",
    "\n",
    "# the Sleep and Dream Database filtered for natural elements: Fire, Water, Earth, Air\n",
    "url = 'https://sleepanddreamdatabase.org/search_results/%7B%22keywordIds%22%3A[%22%2Fsub_categories%2Fb2de59fe-8b60-11ea-ba75-0242ac120007%22%2C%22%2Fsub_categories%2Fb2de5a34-8b60-11ea-ba75-0242ac120007%22%2C%22%2Fsub_categories%2Fb2de5a69-8b60-11ea-ba75-0242ac120007%22%2C%22%2Fsub_categories%2Fb2de5aa2-8b60-11ea-ba75-0242ac120007%22]%2C%22keywordTexts%22%3A[%22fire%22%2C%22air%22%2C%22water%22%2C%22earth%22]%7D'\n",
    "driver.get(url)\n",
    "\n",
    "search = driver.find_element_by_class_name('sc-pJVnX.jOExFg')\n",
    "time.sleep(3)\n",
    "previous_height = driver.execute_script('return document.body.scrollHeight')\n",
    "\n",
    "while True:\n",
    "    driver.execute_script('window.scrollTo(0, document.body.scrollHeight);')\n",
    "    time.sleep(2)\n",
    "    new_height = driver.execute_script('return document.body.scrollHeight')\n",
    "    \n",
    "    if new_height == previous_height:\n",
    "        break\n",
    "    previous_height = new_height\n",
    "\n",
    "\n",
    "try:\n",
    "    \n",
    "    links = WebDriverWait(driver, 120).until(\n",
    "        EC.presence_of_all_elements_located((By.CLASS_NAME, 'sc-pciXn.kKVZfa'))\n",
    "    )\n",
    "    result_lst = []\n",
    "    for link in links:\n",
    "        result_lst.append(link.get_attribute('href'))\n",
    "        \n",
    "finally:\n",
    "    driver.quit()"
   ]
  },
  {
   "cell_type": "markdown",
   "id": "charged-nelson",
   "metadata": {},
   "source": [
    "## 2. Save the Links to a Text File"
   ]
  },
  {
   "cell_type": "code",
   "execution_count": null,
   "id": "closing-kingston",
   "metadata": {},
   "outputs": [],
   "source": [
    "with open('SDDb_links.txt', 'w') as f:\n",
    "    for link in result_lst:\n",
    "        f.write(link + '\\n')\n",
    "        \n",
    "with open('SDDb_links.txt', 'r') as f:\n",
    "    links_lst = [line.rstrip('\\n') for line in f]"
   ]
  },
  {
   "cell_type": "markdown",
   "id": "lonely-colleague",
   "metadata": {},
   "source": [
    "## 3. Fetch Data From Each Dream Entry and Store Result"
   ]
  },
  {
   "cell_type": "code",
   "execution_count": 4,
   "id": "mental-listening",
   "metadata": {},
   "outputs": [],
   "source": [
    "dreams_data = []\n",
    "failed_links = []\n",
    "\n",
    "for link in link_lst:\n",
    "    chrome_options = Options()\n",
    "    chrome_options.add_argument(\"--headless\")\n",
    "\n",
    "    path = '/Users/mekdiyilma/code/chromedriver'\n",
    "    driver = webdriver.Chrome(executable_path=path, options=chrome_options)\n",
    "    driver.get(str(link))\n",
    "\n",
    "    \n",
    "    try:\n",
    "        result_dict = dict()\n",
    "        \n",
    "        id_search = WebDriverWait(driver, 10).until(\n",
    "        EC.presence_of_all_elements_located((By.CLASS_NAME, 'sc-fznAgC.dSEOxJ'))\n",
    "    )\n",
    "        for series_id in id_search:\n",
    "            result_dict['id'] = series_id.text\n",
    "\n",
    "            \n",
    "        date_search = WebDriverWait(driver, 10).until(\n",
    "        EC.presence_of_all_elements_located((By.CLASS_NAME, 'sc-fzqMAW.himZKo'))\n",
    "    )\n",
    "        \n",
    "        for header in date_search:\n",
    "            result_dict['date'] = header.text.split('\\n')[1]\n",
    "\n",
    "            \n",
    "        descrp_search = WebDriverWait(driver, 10).until(\n",
    "        EC.presence_of_all_elements_located((By.CLASS_NAME, 'sc-fzoydu.ctZjfV'))\n",
    "    )\n",
    "\n",
    "        for descrp in descrp_search:\n",
    "            result_dict['description'] = descrp.text\n",
    "        \n",
    "        try:\n",
    "            category_search = WebDriverWait(driver, 10).until(\n",
    "            EC.presence_of_all_elements_located((By.CLASS_NAME, 'sc-fznLPX.dtmoaU'))\n",
    "        )\n",
    "            result = []\n",
    "            for categories in category_search:\n",
    "                result.append(tuple(categories.text.split('\\n')))\n",
    "\n",
    "            result_dict.update(dict(result))\n",
    "        except:\n",
    "            result_dict.update({})\n",
    "            \n",
    "        \n",
    "        dreams_data.append(result_dict)\n",
    "        \n",
    "        time.sleep(3)\n",
    "        \n",
    "    except:\n",
    "        failed_links.append(link)\n",
    "        print('[!] Error: ' + str(link))\n"
   ]
  },
  {
   "cell_type": "code",
   "execution_count": null,
   "id": "sharp-identification",
   "metadata": {},
   "outputs": [],
   "source": []
  }
 ],
 "metadata": {
  "kernelspec": {
   "display_name": "Python 3",
   "language": "python",
   "name": "python3"
  },
  "language_info": {
   "codemirror_mode": {
    "name": "ipython",
    "version": 3
   },
   "file_extension": ".py",
   "mimetype": "text/x-python",
   "name": "python",
   "nbconvert_exporter": "python",
   "pygments_lexer": "ipython3",
   "version": "3.7.7"
  }
 },
 "nbformat": 4,
 "nbformat_minor": 5
}
