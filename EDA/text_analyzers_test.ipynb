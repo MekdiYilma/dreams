{
 "cells": [
  {
   "cell_type": "markdown",
   "id": "centered-player",
   "metadata": {},
   "source": [
    "# I. Setting Up Textblob Sentiment Analysis "
   ]
  },
  {
   "cell_type": "code",
   "execution_count": 1,
   "id": "absolute-supervision",
   "metadata": {},
   "outputs": [],
   "source": [
    "from textblob import TextBlob #TextBlob uses NLKT to support complex analysis and operations on textual data"
   ]
  },
  {
   "cell_type": "code",
   "execution_count": 2,
   "id": "electronic-innocent",
   "metadata": {},
   "outputs": [],
   "source": [
    "text1 = 'I am so excited to use sentiment analysis'\n",
    "text2 = 'I feel anxious to see how this will work with my actual dataset'"
   ]
  },
  {
   "cell_type": "code",
   "execution_count": 3,
   "id": "particular-tuesday",
   "metadata": {},
   "outputs": [
    {
     "name": "stdout",
     "output_type": "stream",
     "text": [
      "Sentiment(polarity=0.375, subjectivity=0.75)\n",
      "Sentiment(polarity=-0.125, subjectivity=0.55)\n"
     ]
    }
   ],
   "source": [
    "blob1 = TextBlob(text1)\n",
    "blob2 = TextBlob(text2)\n",
    "\n",
    "print(blob1.sentiment)\n",
    "print(blob2.sentiment)"
   ]
  },
  {
   "cell_type": "code",
   "execution_count": 4,
   "id": "lasting-angola",
   "metadata": {},
   "outputs": [
    {
     "data": {
      "text/plain": [
       "(0.375, 0.75)"
      ]
     },
     "execution_count": 4,
     "metadata": {},
     "output_type": "execute_result"
    }
   ],
   "source": [
    "blob1.sentiment[0],blob1.sentiment[1]"
   ]
  },
  {
   "cell_type": "markdown",
   "id": "incorporated-feature",
   "metadata": {},
   "source": [
    "**Resources:**\n",
    "\n",
    "[TextBlob Documentation](https://textblob.readthedocs.io/en/dev/quickstart.html)<br>\n",
    "[Sentiment Analysis Using TextBlob](https://towardsdatascience.com/my-absolute-go-to-for-sentiment-analysis-textblob-3ac3a11d524)"
   ]
  },
  {
   "cell_type": "code",
   "execution_count": null,
   "id": "reasonable-router",
   "metadata": {},
   "outputs": [],
   "source": []
  },
  {
   "cell_type": "markdown",
   "id": "dense-invite",
   "metadata": {},
   "source": [
    "# II. Setting Up IBM Tone Analyzer"
   ]
  },
  {
   "cell_type": "markdown",
   "id": "banned-pointer",
   "metadata": {},
   "source": [
    "## Authenticate "
   ]
  },
  {
   "cell_type": "code",
   "execution_count": 5,
   "id": "sapphire-wilson",
   "metadata": {},
   "outputs": [],
   "source": [
    "apikey = 'aBk6uX_UYs9hbNN2R8j6LDsxmftZ9umqb_N8hKMiAXQ9'\n",
    "url = 'https://api.us-south.tone-analyzer.watson.cloud.ibm.com/instances/3dbc0cbf-93a7-4dbd-9e2c-cfa743e27a5c'"
   ]
  },
  {
   "cell_type": "code",
   "execution_count": 6,
   "id": "surrounded-incidence",
   "metadata": {},
   "outputs": [],
   "source": [
    "# imported ToneAnalyzer class from IBM watson\n",
    "from ibm_watson import ToneAnalyzerV3\n",
    "# set up a new authenticator alongside our tone analyzer\n",
    "from ibm_cloud_sdk_core.authenticators import IAMAuthenticator"
   ]
  },
  {
   "cell_type": "code",
   "execution_count": 7,
   "id": "sorted-andrew",
   "metadata": {},
   "outputs": [],
   "source": [
    "# set up an instance of the IAM authenticator to use our authenticator with tone analyzer \n",
    "\n",
    "authenticator = IAMAuthenticator(apikey)\n",
    "ta = ToneAnalyzerV3(\n",
    "    version='2017-09-21',\n",
    "    authenticator=authenticator\n",
    ")\n",
    "\n",
    "ta.set_service_url(url)\n"
   ]
  },
  {
   "cell_type": "markdown",
   "id": "familiar-stadium",
   "metadata": {},
   "source": [
    "## Analyze Tone"
   ]
  },
  {
   "cell_type": "code",
   "execution_count": 8,
   "id": "floral-accommodation",
   "metadata": {},
   "outputs": [
    {
     "data": {
      "text/plain": [
       "{'document_tone': {'tones': [{'score': 0.852739,\n",
       "    'tone_id': 'joy',\n",
       "    'tone_name': 'Joy'},\n",
       "   {'score': 0.920855, 'tone_id': 'analytical', 'tone_name': 'Analytical'}]}}"
      ]
     },
     "execution_count": 8,
     "metadata": {},
     "output_type": "execute_result"
    }
   ],
   "source": [
    "ta.tone(text1).get_result()"
   ]
  },
  {
   "cell_type": "code",
   "execution_count": 9,
   "id": "certified-sensitivity",
   "metadata": {},
   "outputs": [
    {
     "data": {
      "text/plain": [
       "{'document_tone': {'tones': [{'score': 0.756588,\n",
       "    'tone_id': 'fear',\n",
       "    'tone_name': 'Fear'},\n",
       "   {'score': 0.509368, 'tone_id': 'confident', 'tone_name': 'Confident'}]}}"
      ]
     },
     "execution_count": 9,
     "metadata": {},
     "output_type": "execute_result"
    }
   ],
   "source": [
    "ta.tone(text2).get_result()"
   ]
  },
  {
   "cell_type": "code",
   "execution_count": 6,
   "id": "confident-enzyme",
   "metadata": {},
   "outputs": [
    {
     "data": {
      "text/plain": [
       "0.509368"
      ]
     },
     "execution_count": 6,
     "metadata": {},
     "output_type": "execute_result"
    }
   ],
   "source": [
    "d = {'document_tone': {'tones': [{'score': 0.756588,\n",
    "    'tone_id': 'fear',\n",
    "    'tone_name': 'Fear'},\n",
    "   {'score': 0.509368, 'tone_id': 'confident', 'tone_name': 'Confident'}]}}\n",
    "\n",
    "score = 0\n",
    "for tone_d in d.get('document_tone').get('tones'):\n",
    "    if tone_d.get('tone_id') == 'confident':\n",
    "        score = tone_d.get('score')\n",
    "score"
   ]
  },
  {
   "cell_type": "code",
   "execution_count": null,
   "id": "level-infrastructure",
   "metadata": {},
   "outputs": [],
   "source": []
  }
 ],
 "metadata": {
  "kernelspec": {
   "display_name": "Python 3",
   "language": "python",
   "name": "python3"
  },
  "language_info": {
   "codemirror_mode": {
    "name": "ipython",
    "version": 3
   },
   "file_extension": ".py",
   "mimetype": "text/x-python",
   "name": "python",
   "nbconvert_exporter": "python",
   "pygments_lexer": "ipython3",
   "version": "3.7.7"
  }
 },
 "nbformat": 4,
 "nbformat_minor": 5
}
